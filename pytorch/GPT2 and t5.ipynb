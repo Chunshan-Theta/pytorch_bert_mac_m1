{
 "cells": [
  {
   "cell_type": "markdown",
   "id": "dfd8f016",
   "metadata": {},
   "source": [
    "# GPT2"
   ]
  },
  {
   "cell_type": "code",
   "execution_count": 9,
   "id": "6196a4b3",
   "metadata": {},
   "outputs": [
    {
     "name": "stderr",
     "output_type": "stream",
     "text": [
      "Setting `pad_token_id` to `eos_token_id`:50256 for open-end generation.\n"
     ]
    },
    {
     "data": {
      "text/plain": [
       "[{'generated_text': '这是很久之前的事情了 ， 也 希 望 大 家 不 要 对 我 说 没 有 了 ， 或 者 说 我 不 想 说 话 。 我 曾 经 也 这 么 想 的 。 但 我 现 在 发 着 脾 气 说 不 要 一 直 想 着 要 他 了 。 我 也 想 他 了 ， 但 是 也 想 他 了 ， 而 且 他 已 经 跟 他 提 分 手 ， 那 就 是 最 后 一 次 见 面 。 所 以 我 不'}]"
      ]
     },
     "execution_count": 9,
     "metadata": {},
     "output_type": "execute_result"
    }
   ],
   "source": [
    "from transformers import BertTokenizer, GPT2LMHeadModel, TextGenerationPipeline\n",
    "\n",
    "tokenizer = BertTokenizer.from_pretrained(\"uer/gpt2-chinese-cluecorpussmall\")\n",
    "model = GPT2LMHeadModel.from_pretrained(\"uer/gpt2-chinese-cluecorpussmall\",pad_token_id=tokenizer.eos_token_id)\n",
    "text_generator = TextGenerationPipeline(model, tokenizer)   \n",
    "text_generator(\"这是很久之前的事情了\", max_length=100, do_sample=True)\n"
   ]
  },
  {
   "cell_type": "code",
   "execution_count": 8,
   "id": "c9278eee",
   "metadata": {},
   "outputs": [
    {
     "name": "stderr",
     "output_type": "stream",
     "text": [
      "Setting `pad_token_id` to `eos_token_id`:50256 for open-end generation.\n"
     ]
    },
    {
     "data": {
      "text/plain": [
       "[{'generated_text': '本土新冠肺炎病例+2！華航、諾富特個案爆不完，連同旅館外包人員也確診 不 完 ！ 另 外 ， 中 国 遊 客 爆 發 嚴 重 意 外 懷 疑 是 病 理 徵 象 時 ， 中 醫 師 會 勸 ： 「 如 果 是 真 的 ， 就 可 以 重 用 ！ 」 最 後 ， 中 國 方 面 也 敦 促 中 醫 師 多 休 息 休 息 ， 讓 病 人 恢 復 正 常 狀 態 。 但 不 論 如 何 ， 中 醫 师 為 了 讓 遊 客 受 騙 ， 應 該 是 尽 了 所 有 的 力 . . . 因 為 ， 這 次 醫 德 太 差 了 ! 中 國 人 多 數 是 外 來 人 口 ， 大 量 外 來 人 員 ， 不 是 內 地 客 人 ， 無 論 何 時 ， 中 醫 師 仍 然 很 難 相 信 這 是 病 理 徵 象 。 至 於 為 何 會 使 用 藥 品 ? 一 大 多 数 外 來 人 口 都 不 相 信 藥 品 ， 更 有 一 些 外 國 人 在 一 些 醫 院 開 的 藥 ， 甚 至 還 有 內 地 特 別 的 醫 院 ， 大 家 都 會 信 服 。 所 以 外 來 人 员 到 底 是 不 是 病 理 徵 象 ? 這 就 很 難 說 了 。 我 不 是 專 家 ， 但 我 想 在 此 跟 大 家 说 一 句 ： 中 医 是 中 国 药 ， 不 是 外 來 人 口 ！ ●●● 不 要 在 网 上 爆 太 多 病 例 ! 中 医 并 不 是 外 来 人 口 。 你 要 相 信 那 些 外 國 的 中 醫 是 世 界 性 的 。 你 肯 定 也 曾 在 网 上 发 现 有 中 醫 公 司 在 向 外 界 爆 料 。 但 是 一 切 以 真 相 为 依 据 ， 这 些 外 来 人 口 都 有 自 己 的 秘 密 。 我 不 相 信 中 医 是 某 一 个 有 一 个 神 奇 的 病 理 征 象 ， 只 知 道 中 医 能 改 变 很 多 人 的 生 理 结 构 ， 而 且 很 有 效 ， 因 为 它 不 需 要 太 多 的 医 学 治 疗 ， 所 以 真 正 有 效 根 本 不 存 在 。 如 果 能 提 供 真 实 的 医 学 资 讯 ， 我 的 建 议 是 ： 除 了 公 平 的 信 息 外 ， 一 定'}]"
      ]
     },
     "execution_count": 8,
     "metadata": {},
     "output_type": "execute_result"
    }
   ],
   "source": [
    "sent = \"本土新冠肺炎病例+2！華航、諾富特個案爆不完，連同旅館外包人員也確診\"\n",
    "text_generator(sent, max_length=500, do_sample=True)\n"
   ]
  },
  {
   "cell_type": "markdown",
   "id": "fa5554ab",
   "metadata": {},
   "source": [
    "# T5"
   ]
  },
  {
   "cell_type": "code",
   "execution_count": 10,
   "id": "5c50eec5",
   "metadata": {},
   "outputs": [
    {
     "data": {
      "application/vnd.jupyter.widget-view+json": {
       "model_id": "b004905a0899492badaf97a10d0fcd03",
       "version_major": 2,
       "version_minor": 0
      },
      "text/plain": [
       "Downloading:   0%|          | 0.00/110k [00:00<?, ?B/s]"
      ]
     },
     "metadata": {},
     "output_type": "display_data"
    },
    {
     "data": {
      "application/vnd.jupyter.widget-view+json": {
       "model_id": "fd596c8bf12141dc8952ebaccf247695",
       "version_major": 2,
       "version_minor": 0
      },
      "text/plain": [
       "Downloading:   0%|          | 0.00/112 [00:00<?, ?B/s]"
      ]
     },
     "metadata": {},
     "output_type": "display_data"
    },
    {
     "data": {
      "application/vnd.jupyter.widget-view+json": {
       "model_id": "8be0509099d14ceba214b8f0db7441dc",
       "version_major": 2,
       "version_minor": 0
      },
      "text/plain": [
       "Downloading:   0%|          | 0.00/321 [00:00<?, ?B/s]"
      ]
     },
     "metadata": {},
     "output_type": "display_data"
    },
    {
     "data": {
      "application/vnd.jupyter.widget-view+json": {
       "model_id": "4df790ed8dc24083ae37b83618953963",
       "version_major": 2,
       "version_minor": 0
      },
      "text/plain": [
       "Downloading:   0%|          | 0.00/458 [00:00<?, ?B/s]"
      ]
     },
     "metadata": {},
     "output_type": "display_data"
    },
    {
     "data": {
      "application/vnd.jupyter.widget-view+json": {
       "model_id": "807b2298e52e4e22bc0133e942d0a99f",
       "version_major": 2,
       "version_minor": 0
      },
      "text/plain": [
       "Downloading:   0%|          | 0.00/220M [00:00<?, ?B/s]"
      ]
     },
     "metadata": {},
     "output_type": "display_data"
    },
    {
     "data": {
      "text/plain": [
       "[{'generated_text': 'extra0 北 extra1 extra2 extra3 extra4 extra5 extra6 extra7'}]"
      ]
     },
     "execution_count": 10,
     "metadata": {},
     "output_type": "execute_result"
    }
   ],
   "source": [
    "from transformers import BertTokenizer, T5ForConditionalGeneration, Text2TextGenerationPipeline\n",
    "tokenizer = BertTokenizer.from_pretrained(\"uer/t5-small-chinese-cluecorpussmall\")\n",
    "model = T5ForConditionalGeneration.from_pretrained(\"uer/t5-small-chinese-cluecorpussmall\")\n",
    "text2text_generator = Text2TextGenerationPipeline(model, tokenizer)  \n",
    "text2text_generator(\"中国的首都是extra0京\", max_length=50, do_sample=False)"
   ]
  },
  {
   "cell_type": "code",
   "execution_count": 12,
   "id": "a2b5743e",
   "metadata": {},
   "outputs": [
    {
     "data": {
      "text/plain": [
       "[{'generated_text': 'extra0 ！ extra1 了 extra2 讓 extra3 extra4 extra5 extra6 extra7 extra8 extra9 extra10 extra11 extra12 extra12 extra13 extra14 extra15 extra16 extra25 extra26 extra27 extra28 extra4 extra4'}]"
      ]
     },
     "execution_count": 12,
     "metadata": {},
     "output_type": "execute_result"
    }
   ],
   "source": [
    "#text2text_generator(\"另外，中国遊客爆發嚴重意外懷疑是病理徵象時，中醫師會勸：「如果是真的，就可以重用！」最後，中國方面也敦促中醫師多休息休息，讓病人恢復正常狀態。\", max_length=50, do_sample=False)\n",
    "text2text_generator(\"另外，中国遊客爆發嚴重意外懷疑是病理徵象時，中醫師會勸：「如果是extra的，就可以extra1！」最後，中國方面也extra2中醫師多休息休息，讓病人恢復正常狀態。\", max_length=50, do_sample=False)"
   ]
  },
  {
   "cell_type": "code",
   "execution_count": null,
   "id": "f13e71d8",
   "metadata": {},
   "outputs": [],
   "source": []
  }
 ],
 "metadata": {
  "kernelspec": {
   "display_name": "Python 3",
   "language": "python",
   "name": "python3"
  },
  "language_info": {
   "codemirror_mode": {
    "name": "ipython",
    "version": 3
   },
   "file_extension": ".py",
   "mimetype": "text/x-python",
   "name": "python",
   "nbconvert_exporter": "python",
   "pygments_lexer": "ipython3",
   "version": "3.8.5"
  }
 },
 "nbformat": 4,
 "nbformat_minor": 5
}
