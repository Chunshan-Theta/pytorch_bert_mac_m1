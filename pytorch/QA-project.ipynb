{
 "cells": [
  {
   "cell_type": "code",
   "execution_count": 7,
   "id": "c49e3110",
   "metadata": {},
   "outputs": [
    {
     "name": "stdout",
     "output_type": "stream",
     "text": [
      "\u001b[33mWARNING: Value for scheme.headers does not match. Please report this to <https://github.com/pypa/pip/issues/9617>\n",
      "distutils: /Users/thetawang/miniforge_x86_64/envs/pytorch_x86/include/python3.7m/UNKNOWN\n",
      "sysconfig: /Users/thetawang/miniforge_x86_64/envs/pytorch_x86/include/python3.7m\u001b[0m\n",
      "\u001b[33mWARNING: Additional context:\n",
      "user = False\n",
      "home = None\n",
      "root = None\n",
      "prefix = None\u001b[0m\n",
      "Collecting sentence-transformers\n",
      "  Downloading sentence-transformers-1.1.0.tar.gz (78 kB)\n",
      "\u001b[K     |████████████████████████████████| 78 kB 941 kB/s eta 0:00:01\n",
      "\u001b[?25hRequirement already satisfied: transformers<5.0.0,>=3.1.0 in /Users/thetawang/miniforge_x86_64/envs/pytorch_x86/lib/python3.7/site-packages (from sentence-transformers) (4.5.1)\n",
      "Requirement already satisfied: tqdm in /Users/thetawang/miniforge_x86_64/envs/pytorch_x86/lib/python3.7/site-packages (from sentence-transformers) (4.60.0)\n",
      "Requirement already satisfied: torch>=1.6.0 in /Users/thetawang/miniforge_x86_64/envs/pytorch_x86/lib/python3.7/site-packages (from sentence-transformers) (1.7.0)\n",
      "Requirement already satisfied: numpy in /Users/thetawang/miniforge_x86_64/envs/pytorch_x86/lib/python3.7/site-packages (from sentence-transformers) (1.20.2)\n",
      "Collecting scikit-learn\n",
      "  Downloading scikit_learn-0.24.2-cp37-cp37m-macosx_10_13_x86_64.whl (7.2 MB)\n",
      "\u001b[K     |████████████████████████████████| 7.2 MB 2.6 MB/s eta 0:00:01\n",
      "\u001b[?25hCollecting scipy\n",
      "  Downloading scipy-1.6.3-cp37-cp37m-macosx_10_9_x86_64.whl (30.7 MB)\n",
      "\u001b[K     |████████████████████████████████| 30.7 MB 333 kB/s eta 0:00:01\n",
      "\u001b[?25hCollecting nltk\n",
      "  Downloading nltk-3.6.2-py3-none-any.whl (1.5 MB)\n",
      "\u001b[K     |████████████████████████████████| 1.5 MB 1.5 MB/s eta 0:00:01\n",
      "\u001b[?25hRequirement already satisfied: sentencepiece in /Users/thetawang/miniforge_x86_64/envs/pytorch_x86/lib/python3.7/site-packages (from sentence-transformers) (0.1.95)\n",
      "Requirement already satisfied: future in /Users/thetawang/miniforge_x86_64/envs/pytorch_x86/lib/python3.7/site-packages (from torch>=1.6.0->sentence-transformers) (0.18.2)\n",
      "Requirement already satisfied: typing_extensions in /Users/thetawang/miniforge_x86_64/envs/pytorch_x86/lib/python3.7/site-packages (from torch>=1.6.0->sentence-transformers) (3.7.4.3)\n",
      "Requirement already satisfied: dataclasses in /Users/thetawang/miniforge_x86_64/envs/pytorch_x86/lib/python3.7/site-packages (from torch>=1.6.0->sentence-transformers) (0.6)\n",
      "Requirement already satisfied: sacremoses in /Users/thetawang/miniforge_x86_64/envs/pytorch_x86/lib/python3.7/site-packages (from transformers<5.0.0,>=3.1.0->sentence-transformers) (0.0.45)\n",
      "Requirement already satisfied: regex!=2019.12.17 in /Users/thetawang/miniforge_x86_64/envs/pytorch_x86/lib/python3.7/site-packages (from transformers<5.0.0,>=3.1.0->sentence-transformers) (2021.4.4)\n",
      "Requirement already satisfied: filelock in /Users/thetawang/miniforge_x86_64/envs/pytorch_x86/lib/python3.7/site-packages (from transformers<5.0.0,>=3.1.0->sentence-transformers) (3.0.12)\n",
      "Requirement already satisfied: requests in /Users/thetawang/miniforge_x86_64/envs/pytorch_x86/lib/python3.7/site-packages (from transformers<5.0.0,>=3.1.0->sentence-transformers) (2.25.1)\n",
      "Requirement already satisfied: tokenizers<0.11,>=0.10.1 in /Users/thetawang/miniforge_x86_64/envs/pytorch_x86/lib/python3.7/site-packages (from transformers<5.0.0,>=3.1.0->sentence-transformers) (0.10.2)\n",
      "Requirement already satisfied: importlib-metadata in /Users/thetawang/miniforge_x86_64/envs/pytorch_x86/lib/python3.7/site-packages (from transformers<5.0.0,>=3.1.0->sentence-transformers) (4.0.1)\n",
      "Requirement already satisfied: packaging in /Users/thetawang/miniforge_x86_64/envs/pytorch_x86/lib/python3.7/site-packages (from transformers<5.0.0,>=3.1.0->sentence-transformers) (20.9)\n",
      "Requirement already satisfied: zipp>=0.5 in /Users/thetawang/miniforge_x86_64/envs/pytorch_x86/lib/python3.7/site-packages (from importlib-metadata->transformers<5.0.0,>=3.1.0->sentence-transformers) (3.4.1)\n",
      "Requirement already satisfied: click in /Users/thetawang/miniforge_x86_64/envs/pytorch_x86/lib/python3.7/site-packages (from nltk->sentence-transformers) (7.1.2)\n",
      "Requirement already satisfied: joblib in /Users/thetawang/miniforge_x86_64/envs/pytorch_x86/lib/python3.7/site-packages (from nltk->sentence-transformers) (1.0.1)\n",
      "Requirement already satisfied: pyparsing>=2.0.2 in /Users/thetawang/miniforge_x86_64/envs/pytorch_x86/lib/python3.7/site-packages (from packaging->transformers<5.0.0,>=3.1.0->sentence-transformers) (2.4.7)\n",
      "Requirement already satisfied: certifi>=2017.4.17 in /Users/thetawang/miniforge_x86_64/envs/pytorch_x86/lib/python3.7/site-packages (from requests->transformers<5.0.0,>=3.1.0->sentence-transformers) (2020.12.5)\n",
      "Requirement already satisfied: chardet<5,>=3.0.2 in /Users/thetawang/miniforge_x86_64/envs/pytorch_x86/lib/python3.7/site-packages (from requests->transformers<5.0.0,>=3.1.0->sentence-transformers) (4.0.0)\n",
      "Requirement already satisfied: idna<3,>=2.5 in /Users/thetawang/miniforge_x86_64/envs/pytorch_x86/lib/python3.7/site-packages (from requests->transformers<5.0.0,>=3.1.0->sentence-transformers) (2.10)\n",
      "Requirement already satisfied: urllib3<1.27,>=1.21.1 in /Users/thetawang/miniforge_x86_64/envs/pytorch_x86/lib/python3.7/site-packages (from requests->transformers<5.0.0,>=3.1.0->sentence-transformers) (1.26.4)\n",
      "Requirement already satisfied: six in /Users/thetawang/miniforge_x86_64/envs/pytorch_x86/lib/python3.7/site-packages (from sacremoses->transformers<5.0.0,>=3.1.0->sentence-transformers) (1.15.0)\n",
      "Collecting threadpoolctl>=2.0.0\n",
      "  Downloading threadpoolctl-2.1.0-py3-none-any.whl (12 kB)\n",
      "Building wheels for collected packages: sentence-transformers\n",
      "  Building wheel for sentence-transformers (setup.py) ... \u001b[?25ldone\n",
      "\u001b[?25h  Created wheel for sentence-transformers: filename=sentence_transformers-1.1.0-py3-none-any.whl size=119616 sha256=f75b2f470edb8d6c9c537f2ef6f3e3bc13fc9baf85dbc1d12dc5e2f15260c9ed\n",
      "  Stored in directory: /Users/thetawang/Library/Caches/pip/wheels/20/fd/72/b2524b6c3af92dae3ce173595aeff673a8114255809a9aa381\n",
      "Successfully built sentence-transformers\n",
      "Installing collected packages: threadpoolctl, scipy, scikit-learn, nltk, sentence-transformers\n",
      "\u001b[33mWARNING: Value for scheme.headers does not match. Please report this to <https://github.com/pypa/pip/issues/9617>\n",
      "distutils: /Users/thetawang/miniforge_x86_64/envs/pytorch_x86/include/python3.7m/UNKNOWN\n",
      "sysconfig: /Users/thetawang/miniforge_x86_64/envs/pytorch_x86/include/python3.7m\u001b[0m\n",
      "\u001b[33mWARNING: Additional context:\n",
      "user = False\n",
      "home = None\n",
      "root = None\n",
      "prefix = None\u001b[0m\n",
      "Successfully installed nltk-3.6.2 scikit-learn-0.24.2 scipy-1.6.3 sentence-transformers-1.1.0 threadpoolctl-2.1.0\n"
     ]
    }
   ],
   "source": [
    "!pip install sentence-transformers\n",
    "!pip install jieba"
   ]
  },
  {
   "cell_type": "code",
   "execution_count": 11,
   "id": "18b0906c",
   "metadata": {},
   "outputs": [
    {
     "data": {
      "application/vnd.jupyter.widget-view+json": {
       "model_id": "a495d6f9929f4bea96eef622e107923e",
       "version_major": 2,
       "version_minor": 0
      },
      "text/plain": [
       "  0%|          | 0.00/460M [00:00<?, ?B/s]"
      ]
     },
     "metadata": {},
     "output_type": "display_data"
    },
    {
     "name": "stdout",
     "output_type": "stream",
     "text": [
      "Sentence: I like Javascript because I can build web applications \n",
      "\n",
      "Top 2 most similar sentences in corpus:\n",
      "I like Python because I can build AI applications (Score: 0.5000)\n",
      "I like Python because I can do data analytics (Score: 0.4262)\n"
     ]
    }
   ],
   "source": [
    "from sentence_transformers import SentenceTransformer, util\n",
    "import numpy as np\n",
    "\n",
    "model = SentenceTransformer('stsb-roberta-base-v2')\n",
    "sentence = \"I like Javascript because I can build web applications\"\n",
    "corpus = [\"I like Python because I can build AI applications\",\n",
    "          \"I like Python because I can do data analytics\",\n",
    "          \"The cat sits on the ground\",\n",
    "         \"The cat walks on the sidewalk\"]\n",
    "\n",
    "# encode corpus to get corpus embeddings\n",
    "corpus_embeddings = model.encode(corpus, convert_to_tensor=True)\n",
    "# encode sentence to get sentence embeddings\n",
    "sentence_embedding = model.encode(sentence, convert_to_tensor=True)\n",
    "# top_k results to return\n",
    "top_k=2\n",
    "# compute similarity scores of the sentence with the corpus\n",
    "cos_scores = util.pytorch_cos_sim(sentence_embedding, corpus_embeddings)[0]\n",
    "# Sort the results in decreasing order and get the first top_k\n",
    "top_results = np.argpartition(-cos_scores, range(top_k))[0:top_k]\n",
    "print(\"Sentence:\", sentence, \"\\n\")\n",
    "print(\"Top\", top_k, \"most similar sentences in corpus:\")\n",
    "for idx in top_results[0:top_k]:\n",
    "    print(corpus[idx], \"(Score: %.4f)\" % (cos_scores[idx]))"
   ]
  },
  {
   "cell_type": "code",
   "execution_count": 27,
   "id": "9d5f257a",
   "metadata": {},
   "outputs": [
    {
     "name": "stdout",
     "output_type": "stream",
     "text": [
      "sentence:A 級 單位 特約 申請 什麼 時候 說明 呢\n",
      "corpus:['如個案 有 居家 服務 需求 該 如何 得知 此個案 預派案 的 輪序 單位', 'A 單位 與 案家 討論 完 服務後需 簽立 同意 書會 有 ㄧ 致性 的 範本 嗎', 'A 單位 人員 完訓後須 到 照管 中心 實習 於 實習 前 組合包 的 內容 是 照 專擬定 該 由 誰 協助 處理', '請問 A 級 單位 特約 申請 作業 大概 什麼 時候 會 公告 呢']\n",
      "Sentence: A 級 單位 特約 申請 什麼 時候 說明 呢 \n",
      "\n",
      "Top 2 most similar sentences in corpus:\n",
      "請問 A 級 單位 特約 申請 作業 大概 什麼 時候 會 公告 呢 (Score: 0.9111)\n",
      "A 單位 與 案家 討論 完 服務後需 簽立 同意 書會 有 ㄧ 致性 的 範本 嗎 (Score: 0.8755)\n"
     ]
    }
   ],
   "source": [
    "import jieba\n",
    "\n",
    "\n",
    "def sentTopK(sentence:str,corpus:[str]):\n",
    "    #\n",
    "    sentence = \" \".join(jieba.cut(sentence))\n",
    "    print(f\"sentence:{sentence}\")\n",
    "    corpus = [\" \".join(jieba.cut(s)) for s in corpus]\n",
    "    print(f\"corpus:{corpus}\")\n",
    "\n",
    "    # encode corpus to get corpus embeddings\n",
    "    corpus_embeddings = model.encode(corpus, convert_to_tensor=True)\n",
    "    # encode sentence to get sentence embeddings\n",
    "    sentence_embedding = model.encode(sentence, convert_to_tensor=True)\n",
    "    # top_k results to return\n",
    "    top_k=2\n",
    "    # compute similarity scores of the sentence with the corpus\n",
    "    cos_scores = util.pytorch_cos_sim(sentence_embedding, corpus_embeddings)[0]\n",
    "    # Sort the results in decreasing order and get the first top_k\n",
    "    top_results = np.argpartition(-cos_scores, range(top_k))[0:top_k]\n",
    "    print(\"Sentence:\", sentence, \"\\n\")\n",
    "    print(\"Top\", top_k, \"most similar sentences in corpus:\")\n",
    "    for idx in top_results[0:top_k]:\n",
    "        print(corpus[idx], \"(Score: %.4f)\" % (cos_scores[idx]))\n",
    "    \n",
    "sentence = \"A級單位特約申請什麼時候說明呢\"\n",
    "corpus = [\"如個案有居家服務需求該如何得知此個案預派案的輪序單位\",\n",
    "          \"A單位與案家討論完服務後需簽立同意書會有ㄧ致性的範本嗎\",\n",
    "          \"A單位人員完訓後須到照管中心實習於實習前組合包的內容是照專擬定該由誰協助處理\",\n",
    "          \"請問A級單位特約申請作業大概什麼時候會公告呢\"]\n",
    "\n",
    "sentTopK(sentence,corpus)"
   ]
  },
  {
   "cell_type": "markdown",
   "id": "f1647e9a",
   "metadata": {},
   "source": [
    "# 測試"
   ]
  },
  {
   "cell_type": "markdown",
   "id": "b40d36bf",
   "metadata": {},
   "source": [
    "## 大量測試"
   ]
  },
  {
   "cell_type": "code",
   "execution_count": 33,
   "id": "4ba37155",
   "metadata": {},
   "outputs": [],
   "source": [
    "timelog = dict()\n",
    "def timelog(tag,start = None,end = None):\n",
    "    assert start != None or end != None\n",
    "    if start != None:\n",
    "        timelog[tag] = {\"start\":start}\n",
    "    elif end != None:\n",
    "        timelog[tag][\"end\"] = end\n",
    "        return timelog[tag][\"end\"] - timelog[tag][\"start\"]\n",
    "\n",
    "        \n",
    "        \n",
    "    "
   ]
  },
  {
   "cell_type": "code",
   "execution_count": 31,
   "id": "45ea5225",
   "metadata": {},
   "outputs": [
    {
     "name": "stdout",
     "output_type": "stream",
     "text": [
      "now:2021-05-03 10:07:59.116522\n",
      "sentence:A 級 單位 特約 申請 什麼 時候 說明 呢\n",
      "corpus:['如個案 有 居家 服務 需求 該 如何 得知 此個案 預派案 的 輪序 單位', 'A 單位 與 案家 討論 完 服務後需 簽立 同意 書會 有 ㄧ 致性 的 範本 嗎', 'A 單位 人員 完訓後須 到 照管 中心 實習 於 實習 前 組合包 的 內容 是 照 專擬定 該 由 誰 協助 處理', '請問 A 級 單位 特約 申請 作業 大概 什麼 時候 會 公告 呢']\n",
      "Sentence: A 級 單位 特約 申請 什麼 時候 說明 呢 \n",
      "\n",
      "Top 2 most similar sentences in corpus:\n",
      "請問 A 級 單位 特約 申請 作業 大概 什麼 時候 會 公告 呢 (Score: 0.9111)\n",
      "A 單位 與 案家 討論 完 服務後需 簽立 同意 書會 有 ㄧ 致性 的 範本 嗎 (Score: 0.8755)\n",
      "now:0:00:01.554350\n",
      "now:2021-05-03 10:08:00.670928\n"
     ]
    }
   ],
   "source": [
    "import datetime\n",
    "sentence = \"A級單位特約申請什麼時候說明呢\"\n",
    "corpus = [\"如個案有居家服務需求該如何得知此個案預派案的輪序單位\",\n",
    "          \"A單位與案家討論完服務後需簽立同意書會有ㄧ致性的範本嗎\",\n",
    "          \"A單位人員完訓後須到照管中心實習於實習前組合包的內容是照專擬定該由誰協助處理\",\n",
    "          \"請問A級單位特約申請作業大概什麼時候會公告呢\"]\n",
    "\n",
    "timelog(\"unit\",start=datetime.datetime.now())\n",
    "sentTopK(sentence,corpus)\n",
    "print(f\"now:{datetime.datetime.now()-datetime_start}\")\n",
    "print(f\"now:{datetime.datetime.now()}\")\n",
    "\n"
   ]
  },
  {
   "cell_type": "code",
   "execution_count": null,
   "id": "0a3ecdf3",
   "metadata": {},
   "outputs": [],
   "source": []
  }
 ],
 "metadata": {
  "kernelspec": {
   "display_name": "pytorch_x86",
   "language": "python",
   "name": "pytorch_x86"
  },
  "language_info": {
   "codemirror_mode": {
    "name": "ipython",
    "version": 3
   },
   "file_extension": ".py",
   "mimetype": "text/x-python",
   "name": "python",
   "nbconvert_exporter": "python",
   "pygments_lexer": "ipython3",
   "version": "3.7.10"
  }
 },
 "nbformat": 4,
 "nbformat_minor": 5
}
